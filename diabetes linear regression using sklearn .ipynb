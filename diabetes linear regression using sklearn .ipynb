{
 "cells": [
  {
   "cell_type": "code",
   "execution_count": 80,
   "metadata": {},
   "outputs": [],
   "source": [
    "import numpy as np\n",
    "import pandas as pd\n",
    "import matplotlib.pyplot as plt\n",
    "from sklearn import model_selection\n",
    "from sklearn.linear_model import LinearRegression"
   ]
  },
  {
   "cell_type": "code",
   "execution_count": 81,
   "metadata": {},
   "outputs": [
    {
     "name": "stdout",
     "output_type": "stream",
     "text": [
      "[[-4.91050164e-02 -4.46416365e-02  1.60854917e-01 ...  2.80165065e-02\n",
      "   1.13486232e-02  3.46000000e+02]\n",
      " [-7.09002471e-02  5.06801187e-02 -8.91974838e-02 ... -1.29079423e-02\n",
      "  -5.49250874e-02  1.04000000e+02]\n",
      " [ 1.75052192e-03 -4.46416365e-02 -7.08746786e-02 ... -2.25121719e-02\n",
      "   7.20651633e-03  4.90000000e+01]\n",
      " ...\n",
      " [ 2.35457526e-02 -4.46416365e-02  7.03187031e-02 ... -1.91970476e-02\n",
      "  -9.36191133e-03  2.88000000e+02]\n",
      " [ 1.62806757e-02  5.06801187e-02  7.24743273e-02 ... -2.36445576e-02\n",
      "   6.10539062e-02  1.31000000e+02]\n",
      " [-9.14709343e-03  5.06801187e-02 -3.09956318e-02 ...  6.20931562e-03\n",
      "   2.79170509e-02  4.20000000e+01]]\n"
     ]
    }
   ],
   "source": [
    "data_train = np.loadtxt(\"training_diabetes_x_y_train.csv\", delimiter=\",\")\n",
    "print(data_train)"
   ]
  },
  {
   "cell_type": "code",
   "execution_count": 114,
   "metadata": {},
   "outputs": [
    {
     "name": "stdout",
     "output_type": "stream",
     "text": [
      "[[ 0.02354575  0.05068012 -0.0374625  ... -0.03949338 -0.03075121\n",
      "  -0.01350402]\n",
      " [-0.07816532 -0.04464164 -0.0730303  ... -0.03949338 -0.01811827\n",
      "  -0.08391984]\n",
      " [-0.03094232  0.05068012  0.00133873 ...  0.1081111   0.08379677\n",
      "   0.00306441]\n",
      " ...\n",
      " [ 0.0090156  -0.04464164 -0.01267283 ...  0.03430886  0.02337484\n",
      "  -0.0052198 ]\n",
      " [ 0.01991321 -0.04464164 -0.03422907 ...  0.03283281  0.02472532\n",
      "   0.06933812]\n",
      " [ 0.01628068  0.05068012  0.00996123 ... -0.03949338  0.01703713\n",
      "   0.00720652]]\n",
      "<class 'pandas.core.frame.DataFrame'>\n"
     ]
    },
    {
     "data": {
      "text/plain": [
       "pandas.core.frame.DataFrame"
      ]
     },
     "execution_count": 114,
     "metadata": {},
     "output_type": "execute_result"
    }
   ],
   "source": [
    "data_test = np.loadtxt(\"test_diabetes_x_test.csv\", delimiter=\",\")\n",
    "print(data_test)\n",
    "\n",
    "test_df = pd.DataFrame(data_test)\n",
    "\n",
    "x_test= test_df.iloc[:,:10]\n",
    "#print(x_test)\n",
    "print(type(x_test))\n",
    "\n",
    "y_test = test_df.iloc[:,10:]\n",
    "#print(y_test)\n",
    "type(y_test)"
   ]
  },
  {
   "cell_type": "code",
   "execution_count": 86,
   "metadata": {},
   "outputs": [
    {
     "name": "stdout",
     "output_type": "stream",
     "text": [
      "          age       sex       bmi        bp        s1        s2        s3  \\\n",
      "0   -0.049105 -0.044642  0.160855 -0.046985 -0.029088 -0.019790 -0.047082   \n",
      "1   -0.070900  0.050680 -0.089197 -0.074528 -0.042848 -0.025739 -0.032356   \n",
      "2    0.001751 -0.044642 -0.070875 -0.022885 -0.001569 -0.001001  0.026550   \n",
      "3    0.048974  0.050680  0.081097  0.021872  0.043837  0.064134 -0.054446   \n",
      "4    0.041708  0.050680  0.061696 -0.040099 -0.013953  0.006202 -0.028674   \n",
      "..        ...       ...       ...       ...       ...       ...       ...   \n",
      "326  0.012648 -0.044642 -0.020218 -0.015999  0.012191  0.021233 -0.076536   \n",
      "327  0.019913 -0.044642 -0.057941 -0.057314 -0.001569 -0.012587  0.074412   \n",
      "328  0.023546 -0.044642  0.070319  0.025315 -0.034592 -0.014466 -0.032356   \n",
      "329  0.016281  0.050680  0.072474  0.076958 -0.008449  0.005575 -0.006584   \n",
      "330 -0.009147  0.050680 -0.030996 -0.026328 -0.011201 -0.001001 -0.021311   \n",
      "\n",
      "           s4        s5        s6      y  \n",
      "0    0.034309  0.028017  0.011349  346.0  \n",
      "1   -0.002592 -0.012908 -0.054925  104.0  \n",
      "2   -0.039493 -0.022512  0.007207   49.0  \n",
      "3    0.071210  0.032433  0.048628  180.0  \n",
      "4   -0.002592 -0.014956  0.011349  110.0  \n",
      "..        ...       ...       ...    ...  \n",
      "326  0.108111  0.059881 -0.021788  233.0  \n",
      "327 -0.039493 -0.061177 -0.075636   63.0  \n",
      "328 -0.002592 -0.019197 -0.009362  288.0  \n",
      "329 -0.002592 -0.023645  0.061054  131.0  \n",
      "330 -0.002592  0.006209  0.027917   42.0  \n",
      "\n",
      "[331 rows x 11 columns]\n"
     ]
    }
   ],
   "source": [
    "train_df = pd.DataFrame(data_train)\n",
    "\n",
    "train_df.columns = ['age', 'sex', 'bmi', 'bp', 's1', 's2', 's3', 's4', 's5', 's6', 'y']\n",
    "print(train_df)"
   ]
  },
  {
   "cell_type": "code",
   "execution_count": 87,
   "metadata": {},
   "outputs": [
    {
     "name": "stdout",
     "output_type": "stream",
     "text": [
      "          age       sex       bmi        bp        s1        s2        s3  \\\n",
      "0   -0.049105 -0.044642  0.160855 -0.046985 -0.029088 -0.019790 -0.047082   \n",
      "1   -0.070900  0.050680 -0.089197 -0.074528 -0.042848 -0.025739 -0.032356   \n",
      "2    0.001751 -0.044642 -0.070875 -0.022885 -0.001569 -0.001001  0.026550   \n",
      "3    0.048974  0.050680  0.081097  0.021872  0.043837  0.064134 -0.054446   \n",
      "4    0.041708  0.050680  0.061696 -0.040099 -0.013953  0.006202 -0.028674   \n",
      "..        ...       ...       ...       ...       ...       ...       ...   \n",
      "326  0.012648 -0.044642 -0.020218 -0.015999  0.012191  0.021233 -0.076536   \n",
      "327  0.019913 -0.044642 -0.057941 -0.057314 -0.001569 -0.012587  0.074412   \n",
      "328  0.023546 -0.044642  0.070319  0.025315 -0.034592 -0.014466 -0.032356   \n",
      "329  0.016281  0.050680  0.072474  0.076958 -0.008449  0.005575 -0.006584   \n",
      "330 -0.009147  0.050680 -0.030996 -0.026328 -0.011201 -0.001001 -0.021311   \n",
      "\n",
      "           s4        s5        s6  \n",
      "0    0.034309  0.028017  0.011349  \n",
      "1   -0.002592 -0.012908 -0.054925  \n",
      "2   -0.039493 -0.022512  0.007207  \n",
      "3    0.071210  0.032433  0.048628  \n",
      "4   -0.002592 -0.014956  0.011349  \n",
      "..        ...       ...       ...  \n",
      "326  0.108111  0.059881 -0.021788  \n",
      "327 -0.039493 -0.061177 -0.075636  \n",
      "328 -0.002592 -0.019197 -0.009362  \n",
      "329 -0.002592 -0.023645  0.061054  \n",
      "330 -0.002592  0.006209  0.027917  \n",
      "\n",
      "[331 rows x 10 columns]\n",
      "         y\n",
      "0    346.0\n",
      "1    104.0\n",
      "2     49.0\n",
      "3    180.0\n",
      "4    110.0\n",
      "..     ...\n",
      "326  233.0\n",
      "327   63.0\n",
      "328  288.0\n",
      "329  131.0\n",
      "330   42.0\n",
      "\n",
      "[331 rows x 1 columns]\n"
     ]
    },
    {
     "data": {
      "text/plain": [
       "pandas.core.frame.DataFrame"
      ]
     },
     "execution_count": 87,
     "metadata": {},
     "output_type": "execute_result"
    }
   ],
   "source": [
    "x_train= train_df.iloc[:,:10]\n",
    "print(x_train)\n",
    "type(x_train)\n",
    "\n",
    "y_train = train_df.iloc[:,10:]\n",
    "print(y_train)\n",
    "type(y_train)"
   ]
  },
  {
   "cell_type": "code",
   "execution_count": 91,
   "metadata": {},
   "outputs": [
    {
     "data": {
      "text/plain": [
       "LinearRegression(copy_X=True, fit_intercept=True, n_jobs=None, normalize=False)"
      ]
     },
     "execution_count": 91,
     "metadata": {},
     "output_type": "execute_result"
    }
   ],
   "source": [
    "lm = LinearRegression()\n",
    "lm.fit(x_train, y_train)"
   ]
  },
  {
   "cell_type": "code",
   "execution_count": 112,
   "metadata": {
    "scrolled": false
   },
   "outputs": [
    {
     "data": {
      "text/plain": [
       "numpy.ndarray"
      ]
     },
     "execution_count": 112,
     "metadata": {},
     "output_type": "execute_result"
    }
   ],
   "source": [
    "y_pred = lm.predict(x_train)\n",
    "# print(\"Y predicted: \\n\", y_pred)\n",
    "type(y_pred)"
   ]
  },
  {
   "cell_type": "code",
   "execution_count": 109,
   "metadata": {
    "scrolled": true
   },
   "outputs": [
    {
     "name": "stdout",
     "output_type": "stream",
     "text": [
      "              0\n",
      "0    271.806013\n",
      "1     67.743125\n",
      "2     97.626394\n",
      "3    217.730840\n",
      "4    161.851163\n",
      "..          ...\n",
      "326  194.524177\n",
      "327   62.657546\n",
      "328  212.317793\n",
      "329  197.367032\n",
      "330  123.416917\n",
      "\n",
      "[331 rows x 1 columns]\n"
     ]
    }
   ],
   "source": [
    "pred = pd.DataFrame(y_pred)\n",
    "print(pred)"
   ]
  },
  {
   "cell_type": "code",
   "execution_count": 110,
   "metadata": {},
   "outputs": [],
   "source": [
    "pred.columns = ['y predicted']\n",
    "output = pred.round(5)"
   ]
  },
  {
   "cell_type": "code",
   "execution_count": 111,
   "metadata": {},
   "outputs": [],
   "source": [
    "output.to_csv(r'C:\\Users\\Adiitya\\Desktop\\Jupyter notebook\\o2.csv', index = False, )"
   ]
  }
 ],
 "metadata": {
  "kernelspec": {
   "display_name": "Python 3",
   "language": "python",
   "name": "python3"
  },
  "language_info": {
   "codemirror_mode": {
    "name": "ipython",
    "version": 3
   },
   "file_extension": ".py",
   "mimetype": "text/x-python",
   "name": "python",
   "nbconvert_exporter": "python",
   "pygments_lexer": "ipython3",
   "version": "3.7.4"
  }
 },
 "nbformat": 4,
 "nbformat_minor": 4
}
